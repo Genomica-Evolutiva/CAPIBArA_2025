{
 "cells": [
  {
   "cell_type": "markdown",
   "id": "d277e68d",
   "metadata": {
    "id": "d277e68d"
   },
   "source": [
    "# Práctico 2: Funciones de activación, _Loss functions_, Hiperparámetros, _Vanishing/Exploding Gradients_ e Inicialización"
   ]
  },
  {
   "cell_type": "markdown",
   "id": "5eba01fd",
   "metadata": {
    "id": "5eba01fd"
   },
   "source": [
    "En este cuaderno trabajaremos con MNIST y ejemplos de juguete para comprender los efectos de usar diferentes _losses_, cambiar las funciones de activación, variar ancho, profundidad y _learning rate_, _vanishing_ y _exploding gradients_ y diferentes estrategias de inicialización.\n",
    "\n",
    "Arrancamos cargando algunas bibliotecas básicas"
   ]
  },
  {
   "cell_type": "code",
   "execution_count": null,
   "id": "01552d2d",
   "metadata": {
    "id": "01552d2d"
   },
   "outputs": [],
   "source": [
    "import torch\n",
    "import torch.nn as nn\n",
    "import matplotlib.pyplot as plt\n",
    "#esto que viene es para tener una ventana interactiva\n",
    "import ipywidgets as widgets\n",
    "from IPython.display import display\n",
    "#esto de abajo son optimizadores de pytorch\n",
    "import torch.optim as optim"
   ]
  },
  {
   "cell_type": "markdown",
   "id": "82dbc120-eb04-41ec-83d4-2ad5897765bd",
   "metadata": {
    "id": "82dbc120-eb04-41ec-83d4-2ad5897765bd"
   },
   "source": [
    "## El dataset MNIST"
   ]
  },
  {
   "cell_type": "code",
   "execution_count": null,
   "id": "03ecaa40-f7de-4e62-a12c-3540da6acbd1",
   "metadata": {
    "id": "03ecaa40-f7de-4e62-a12c-3540da6acbd1"
   },
   "outputs": [],
   "source": [
    "#Ahora importamos los datasets que tiene pytorch y funciones utilitarias\n",
    "from torchvision import datasets, transforms\n",
    "from torch.utils.data import DataLoader, random_split"
   ]
  },
  {
   "cell_type": "code",
   "execution_count": null,
   "id": "350719b9-68d1-42ab-a353-2352bbb5deff",
   "metadata": {
    "colab": {
     "base_uri": "https://localhost:8080/"
    },
    "executionInfo": {
     "elapsed": 1583,
     "status": "ok",
     "timestamp": 1758546192189,
     "user": {
      "displayName": "Felipe Maresca",
      "userId": "00134575873646022799"
     },
     "user_tz": 180
    },
    "id": "350719b9-68d1-42ab-a353-2352bbb5deff",
    "outputId": "7f4e12d0-3e1a-49b9-c54c-86885e5296cd"
   },
   "outputs": [],
   "source": [
    "# Preprocesamiento MNIST\n",
    "transform = transforms.ToTensor()\n",
    "train_full = datasets.MNIST(root=\"./data\", train=True, download=True, transform=transform)\n",
    "test_ds = datasets.MNIST(root=\"./data\", train=False, download=True, transform=transform)\n",
    "print (f\"Tamaño del training set: {len(train_full)}, tamaño del test set: {len(test_ds)}, forma de los datos: {train_full[0][0].shape}\")"
   ]
  },
  {
   "cell_type": "markdown",
   "id": "5a8d8616-985b-42a1-9a73-35be2b7a1d9e",
   "metadata": {
    "id": "5a8d8616-985b-42a1-9a73-35be2b7a1d9e"
   },
   "source": [
    "## Crear validation set para seguir el entrenamiento\n",
    "El training set lo partimos sacándole una parte para hacer validación dentro del entrenamiento. Eso no se va a usar para calcular los gradientes."
   ]
  },
  {
   "cell_type": "code",
   "execution_count": null,
   "id": "e0d8ac03-9005-4751-b4b4-09d764544598",
   "metadata": {
    "colab": {
     "base_uri": "https://localhost:8080/",
     "height": 211
    },
    "executionInfo": {
     "elapsed": 38,
     "status": "error",
     "timestamp": 1758635829145,
     "user": {
      "displayName": "Hector Romero",
      "userId": "09371938410028685868"
     },
     "user_tz": 180
    },
    "id": "e0d8ac03-9005-4751-b4b4-09d764544598",
    "outputId": "c2682ea2-92f3-4307-f545-58f6b44afdb6"
   },
   "outputs": [],
   "source": [
    "# Separar un pequeño conjunto para la validación\n",
    "train_size = int(len(train_full) * 0.9)\n",
    "val_size = len(train_full) - train_size\n",
    "train_ds, val_ds = random_split(train_full, [train_size, val_size])\n",
    "\n",
    "# Instanciar clases utilitarias de PyTorch que nos permiten leer la carpeta data\n",
    "batch_size = 64\n",
    "train_loader = DataLoader(train_ds, batch_size=batch_size, shuffle=True)\n",
    "val_loader = DataLoader(val_ds, batch_size=batch_size, shuffle=False)# ----- Definir red profunda -----\n",
    "test_loader = DataLoader(test_ds, batch_size=batch_size, shuffle=False)#\n",
    "\n",
    "# Imprimimos la forma del primer lote\n",
    "batch = next(iter(train_loader))\n",
    "batch[0].shape, batch[1].shape"
   ]
  },
  {
   "cell_type": "markdown",
   "id": "3989e439-0d38-40d9-b3d3-913558dab859",
   "metadata": {
    "id": "3989e439-0d38-40d9-b3d3-913558dab859"
   },
   "source": [
    "## Visualicemos el dataset"
   ]
  },
  {
   "cell_type": "code",
   "execution_count": null,
   "id": "c31eb5ee-ad0b-4de9-9f89-e236b74f4f1b",
   "metadata": {
    "colab": {
     "base_uri": "https://localhost:8080/",
     "height": 546,
     "referenced_widgets": [
      "c672654f1c5c4ec2bf833a622896c15e",
      "46f62bbc29c44d0f8c0cc3b6f8ed0fb8",
      "fd454d791d2d40ffa6f54ed1ecc6e23b",
      "aea48668ee4442a097d76a58ea8ae3b1",
      "a679140a80154d4ab123c35c52b44d1d",
      "ba4d3b28c50b4585bfb479e0a7804889",
      "2101e074cbe5447aa6b06c20aaa2abe9"
     ]
    },
    "executionInfo": {
     "elapsed": 67,
     "status": "ok",
     "timestamp": 1758547097618,
     "user": {
      "displayName": "Felipe Maresca",
      "userId": "00134575873646022799"
     },
     "user_tz": 180
    },
    "id": "c31eb5ee-ad0b-4de9-9f89-e236b74f4f1b",
    "outputId": "38721b0e-327c-4230-a649-fbccbf7092d2"
   },
   "outputs": [],
   "source": [
    "# --- Función para mostrar imagen por índice ---\n",
    "def show_example(index):\n",
    "    image, label = train_full[index]\n",
    "    plt.imshow(image.squeeze(), cmap=\"gray\")\n",
    "    plt.title(f\"Label: {label}\")\n",
    "    plt.axis(\"off\")\n",
    "    plt.show()\n",
    "\n",
    "# --- Slider interactivo ---\n",
    "slider = widgets.IntSlider(value=0, min=0, max=len(train_full)-1, step=1, description=\"Index\")\n",
    "widgets.interact(show_example, index=slider)"
   ]
  },
  {
   "cell_type": "markdown",
   "id": "558f19ad-fb40-4db4-bf03-0c70ab22dbc4",
   "metadata": {
    "id": "558f19ad-fb40-4db4-bf03-0c70ab22dbc4"
   },
   "source": [
    "## Para hacer:"
   ]
  },
  {
   "cell_type": "code",
   "execution_count": null,
   "id": "9acf703f-16d3-429a-8d8c-28c26019be2a",
   "metadata": {
    "id": "9acf703f-16d3-429a-8d8c-28c26019be2a"
   },
   "outputs": [],
   "source": [
    "#copiando el código y modificando apropiadamente pueden ver las imágenes del test set."
   ]
  },
  {
   "cell_type": "markdown",
   "id": "8fda9035-181e-437e-bcc4-0662b3bde17a",
   "metadata": {
    "id": "8fda9035-181e-437e-bcc4-0662b3bde17a"
   },
   "source": [
    "## Primer intento\n",
    "Primero vamos a hacer una red con una capa oculta, con funciones de activación sigmoides y una salida vectorial que buscaremos aproximar en mínimos cuadrados a un vector que tiene un \"_one hot encoding_\" de las etiquetas con números. Esta NO es la mejor manera de clasificar dígitos (o cualquier otra cosa), pero arranquemos ahí."
   ]
  },
  {
   "cell_type": "code",
   "execution_count": null,
   "id": "f4d047a2",
   "metadata": {
    "id": "f4d047a2"
   },
   "outputs": [],
   "source": [
    "# Red simple con ancho parametrizable\n",
    "class SimpleNet(nn.Module):\n",
    "    def __init__(self, width=128):\n",
    "        super().__init__()\n",
    "        #self.capa0=nn.Flatten()   # aplanar la imagen 28x28 -> vector\n",
    "        in_dim = 28 * 28\n",
    "        #la entrada va a una capa oculta con ancho width\n",
    "        self.capa1=nn.Linear(in_dim, width)\n",
    "        #la capa oculta va a una capa de salida que recibe width entradas tiene 10 unidades de ancho\n",
    "        self.capa2=nn.Linear(width, 10)\n",
    "\n",
    "    def forward(self, x):\n",
    "        x = x.view(x.size(0),-1)\n",
    "        #x=self.capa0(x)\n",
    "        #acá ponemos las sigmoides\n",
    "        x=torch.sigmoid(self.capa1(x))\n",
    "        x=torch.sigmoid(self.capa2(x))\n",
    "        return x\n"
   ]
  },
  {
   "cell_type": "code",
   "execution_count": null,
   "id": "0d0c435a",
   "metadata": {
    "colab": {
     "base_uri": "https://localhost:8080/"
    },
    "executionInfo": {
     "elapsed": 11,
     "status": "ok",
     "timestamp": 1758546192533,
     "user": {
      "displayName": "Felipe Maresca",
      "userId": "00134575873646022799"
     },
     "user_tz": 180
    },
    "id": "0d0c435a",
    "outputId": "fa61580f-58b2-43de-ba13-ec87e0a85904"
   },
   "outputs": [],
   "source": [
    "def init_normal(m):\n",
    "     if isinstance(m, nn.Linear):\n",
    "        nn.init.normal_(m.weight, mean=0.0, std=1.0) # Inicialización Normal\n",
    "        nn.init.zeros_(m.bias)# Bias en cero\n",
    "\n",
    "\n",
    "# Crear el modelo\n",
    "mlp = SimpleNet(width=256)\n",
    "\n",
    "# Aplicar inicialización personalizada\n",
    "mlp.apply(init_normal)\n",
    "\n",
    "# Imprimir arquitectura\n",
    "print(mlp)\n"
   ]
  },
  {
   "cell_type": "code",
   "execution_count": null,
   "id": "94f1b7b6-7cfc-4bc6-a9a6-d2b37fa4090a",
   "metadata": {
    "id": "94f1b7b6-7cfc-4bc6-a9a6-d2b37fa4090a"
   },
   "outputs": [],
   "source": [
    "# Vamos a empezar con MSELoss y para eso la salida tengo que cambiarla a vectrores one hot, con 1 en el indice clase-1\n",
    "# O sea, si el dígito es 3, la salida deseada es un vector salida=[0 0 0 1 0 0 0 0 0 0]\n"
   ]
  },
  {
   "cell_type": "code",
   "execution_count": null,
   "id": "4353cdaf-6f10-4b9e-baa3-dec567f43375",
   "metadata": {
    "id": "4353cdaf-6f10-4b9e-baa3-dec567f43375"
   },
   "outputs": [],
   "source": [
    "import torch.nn.functional as F\n",
    "\n",
    "def train_model0(model, train_loader, val_loader, optimizer, epochs=5, device=\"cpu\"):\n",
    "    model.to(device)\n",
    "    history = {\"train_loss\": [], \"val_loss\": [], \"val_acc\": []}\n",
    "\n",
    "    for epoch in range(epochs):\n",
    "        # -------- TRAIN --------\n",
    "        model.train()\n",
    "        total_loss = 0\n",
    "        for X, y in train_loader:\n",
    "            # convertir labels a one-hot\n",
    "            y_onehot = F.one_hot(y, num_classes=10).float()\n",
    "            X, y_onehot = X.to(device), y_onehot.to(device)\n",
    "            optimizer.zero_grad()\n",
    "            out = model(X)\n",
    "            loss = F.mse_loss(out, y_onehot)\n",
    "            loss.backward()\n",
    "            optimizer.step()\n",
    "            total_loss += loss.item()\n",
    "        avg_loss = total_loss / len(train_loader)\n",
    "        history[\"train_loss\"].append(avg_loss)\n",
    "\n",
    "        # -------- EVAL --------\n",
    "        model.eval()\n",
    "        correct, total, val_loss = 0, 0, 0\n",
    "        with torch.no_grad():\n",
    "            for X, y in val_loader:\n",
    "                # one-hot para el loss\n",
    "                y_onehot = F.one_hot(y, num_classes=10).float()\n",
    "                X, y_onehot = X.to(device), y_onehot.to(device)\n",
    "\n",
    "                out = model(X)  # 👈 recalculamos forward\n",
    "                loss = F.mse_loss(out, y_onehot)\n",
    "                val_loss += loss.item()\n",
    "\n",
    "                # accuracy con labels enteros\n",
    "                pred = out.argmax(dim=1).cpu()\n",
    "                correct += (pred == y).sum().item()\n",
    "                total += y.size(0)\n",
    "\n",
    "        history[\"val_loss\"].append(val_loss / len(val_loader))\n",
    "        history[\"val_acc\"].append(correct / total)\n",
    "\n",
    "        print(f\"Epoch {epoch+1}: \"\n",
    "              f\"train_loss={avg_loss:.4f}, \"\n",
    "              f\"val_loss={history['val_loss'][-1]:.4f}, \"\n",
    "              f\"val_acc={history['val_acc'][-1]:.4f}\")\n",
    "    return history\n"
   ]
  },
  {
   "cell_type": "code",
   "execution_count": null,
   "id": "f12d57e1-d755-4f49-ac06-006f0f5428c0",
   "metadata": {
    "colab": {
     "base_uri": "https://localhost:8080/"
    },
    "executionInfo": {
     "elapsed": 178098,
     "status": "ok",
     "timestamp": 1758546370666,
     "user": {
      "displayName": "Felipe Maresca",
      "userId": "00134575873646022799"
     },
     "user_tz": 180
    },
    "id": "f12d57e1-d755-4f49-ac06-006f0f5428c0",
    "outputId": "24963431-70cb-49b5-fe68-a9daacc215db"
   },
   "outputs": [],
   "source": [
    "import numpy as np\n",
    "# Especificamos el optimizador\n",
    "optimizer_mlp = torch.optim.Adam(mlp.parameters(), lr=1e-3)\n",
    "\n",
    "# Reproducibilidad\n",
    "torch.manual_seed(123)\n",
    "np.random.seed(123)\n",
    "\n",
    "# Iteramos sobre una cierta cantidad de épocas\n",
    "history = train_model0(mlp, train_loader, val_loader, optimizer_mlp, 15)\n"
   ]
  },
  {
   "cell_type": "code",
   "execution_count": null,
   "id": "2e02848e-9450-4313-b089-0d7a3d2d5192",
   "metadata": {
    "colab": {
     "base_uri": "https://localhost:8080/",
     "height": 447
    },
    "executionInfo": {
     "elapsed": 207,
     "status": "ok",
     "timestamp": 1758546370872,
     "user": {
      "displayName": "Felipe Maresca",
      "userId": "00134575873646022799"
     },
     "user_tz": 180
    },
    "id": "2e02848e-9450-4313-b089-0d7a3d2d5192",
    "outputId": "7b5f12c9-f9fc-4ba3-d203-e1606360ea93"
   },
   "outputs": [],
   "source": [
    "plt.plot(history[\"train_loss\"])\n",
    "plt.plot(history['val_loss'])"
   ]
  },
  {
   "cell_type": "code",
   "execution_count": null,
   "id": "01b9c129-9e95-416c-9f29-d889f2d8c721",
   "metadata": {
    "colab": {
     "base_uri": "https://localhost:8080/",
     "height": 758,
     "referenced_widgets": [
      "5dda43c81a2f4a03922010e5bf9e723c",
      "8277c671cbc845739e59f0945609452f",
      "18b3a5d6fa3d4c3b8a56fbebba54bfc2",
      "c2d08526f5904595b9d07e43ff3df7c9",
      "e768b7c4494e4a18bac2e9f1f9eb750f",
      "8a78506f9d254757af92f83b8bf78188",
      "cac427de865345d795077f17de55ebab"
     ]
    },
    "executionInfo": {
     "elapsed": 78,
     "status": "ok",
     "timestamp": 1758546370954,
     "user": {
      "displayName": "Felipe Maresca",
      "userId": "00134575873646022799"
     },
     "user_tz": 180
    },
    "id": "01b9c129-9e95-416c-9f29-d889f2d8c721",
    "outputId": "78dd0dc8-a772-429e-8ffd-03455abf4b9d"
   },
   "outputs": [],
   "source": [
    "device=\"cpu\"\n",
    "\n",
    "# --- función para mostrar un ejemplo y pasarlo por la red ---\n",
    "def show_prediction(index):\n",
    "    modelo=mlp\n",
    "    modelo.eval()\n",
    "    image, label = test_ds[index]  # un ejemplo del test set\n",
    "    x = image.unsqueeze(0).to(device)   # añadir batch dimension [1, 1, 28, 28]\n",
    "\n",
    "    with torch.no_grad():\n",
    "        output = modelo(x)\n",
    "        probs = torch.softmax(output, dim=1).cpu().numpy().flatten() #esto lo explicamos después\n",
    "        pred = probs.argmax()\n",
    "\n",
    "    # --- mostrar imagen ---\n",
    "    plt.imshow(image.squeeze(), cmap=\"gray\")\n",
    "    plt.axis(\"off\")\n",
    "    plt.title(f\"Etiqueta real: {label}\\nPredicción: {pred}\")\n",
    "    plt.show()\n",
    "\n",
    "    # --- mostrar probabilidades como vector ---\n",
    "    print(\"Vector de salida (softmax):\")\n",
    "    for i, p in enumerate(probs):\n",
    "        print(f\"{i}: {p:.3f}\")\n",
    "\n",
    "# --- slider interactivo ---\n",
    "slider = widgets.IntSlider(value=0, min=0, max=len(test_ds)-1, step=1, description=\"Index\")\n",
    "widgets.interact(show_prediction, index=slider)"
   ]
  },
  {
   "cell_type": "markdown",
   "id": "42fcc3b4-42ac-418c-b572-4bc6989b86e1",
   "metadata": {
    "id": "42fcc3b4-42ac-418c-b572-4bc6989b86e1"
   },
   "source": [
    "Evaluemos ahora la precisión en el test set."
   ]
  },
  {
   "cell_type": "code",
   "execution_count": null,
   "id": "0f2c26ec-6f9a-4e5e-a7eb-eb7cb1fd10cd",
   "metadata": {
    "id": "0f2c26ec-6f9a-4e5e-a7eb-eb7cb1fd10cd"
   },
   "outputs": [],
   "source": [
    "def evaluate_accuracy(model, test_loader, device=\"cpu\"):\n",
    "    model.eval()\n",
    "    correct, total = 0, 0\n",
    "    with torch.no_grad():\n",
    "\n",
    "        for X, y in test_loader:\n",
    "            X, y = X.to(device), y.to(device)\n",
    "\n",
    "            # forward\n",
    "            out = model(X)\n",
    "\n",
    "            # predicciones (clase con mayor logit)\n",
    "            pred = out.argmax(dim=1)\n",
    "            #prediccion clase con softmax\n",
    "            #print(out)\n",
    "            #probs = torch.softmax(out, dim=1).cpu().numpy().flatten() #esto lo explicamos después\n",
    "            #pred = probs.argmax()\n",
    "\n",
    "            correct += (pred == y).sum().item()\n",
    "            total += y.size(0)\n",
    "\n",
    "\n",
    "\n",
    "    acc = correct / total\n",
    "    print(f\"Accuracy en test set: {acc:.4f}\")\n",
    "    return acc\n"
   ]
  },
  {
   "cell_type": "code",
   "execution_count": null,
   "id": "3d5fe26e-5507-4a6e-ae6d-f173e6c3698f",
   "metadata": {
    "colab": {
     "base_uri": "https://localhost:8080/"
    },
    "executionInfo": {
     "elapsed": 1316,
     "status": "ok",
     "timestamp": 1758546372312,
     "user": {
      "displayName": "Felipe Maresca",
      "userId": "00134575873646022799"
     },
     "user_tz": 180
    },
    "id": "3d5fe26e-5507-4a6e-ae6d-f173e6c3698f",
    "outputId": "946210f8-a5a3-4dc2-effe-9a53f5e447a7"
   },
   "outputs": [],
   "source": [
    "acc = evaluate_accuracy(mlp, test_loader, device=device)"
   ]
  },
  {
   "cell_type": "markdown",
   "id": "ea028298-fa8c-48dd-8d10-30f2ecf819e8",
   "metadata": {
    "id": "ea028298-fa8c-48dd-8d10-30f2ecf819e8"
   },
   "source": [
    "## Un _Loss_ mejor: CrossEntropyLoss"
   ]
  },
  {
   "cell_type": "markdown",
   "id": "ab538a42-62b3-40a2-a342-cbb706b41820",
   "metadata": {
    "id": "ab538a42-62b3-40a2-a342-cbb706b41820"
   },
   "source": [
    "Vamos a introducir paulatinamente diferentes modificaciones para mejorar nuestro modelo.\n",
    "Lo primero es que **no es una buena idea buscar vectores cercanos al _one-hot encoding_ de las categorías** y usar directamente las categorías.\n",
    "Para eso hay que cambiar la función de pérdida. Si tenemos varias categorías, nos gustaría maximizar la probabilidad de asignar la categoría correcta a los ejemplos. Si asumimos que hay una distribución de probabilidad real queremos minimizar la \"distancia\" a esa distribución de probabilidad. Las comillas van en el sentido de que esa distancia no es una distancia en toda la regla, sino que se usa la divergencia de Kullback-Leibler (que no cumple uno de los axiomas para la distancia). La pérdida al clasificar un ejemplo puede verse como la diferencia de información necesaria para obtener la distribución correcta en los ejemplos."
   ]
  },
  {
   "cell_type": "markdown",
   "id": "508cc604-f44c-4383-8ae5-2f54174d83dd",
   "metadata": {
    "id": "508cc604-f44c-4383-8ae5-2f54174d83dd"
   },
   "source": [
    "## Función de activación _softmax_\n",
    "Para eso primero vamos a modificar un poco la red. En particular deberíamos agregar una función softmax a la salida, en lugar de una sigmoide. La función _softmax_ nos dá como resultado una salida que tiene probabilidades en el sentido de que las componentes suman 1 y se pueden interpretar como la probabilidad de la componente i-ésima. Si tengo 10 componentes, hacemos que la salida nos dé la probabilidad de cada una de las clases en cada ejemplo.\n",
    "Como vamos a usar CrossEntropy Loss, este ya incluye log softmax en el cálculo de la pérdida. Alcanza por lo tanto con dejar un vector de diez componentes en la salida lineal."
   ]
  },
  {
   "cell_type": "code",
   "execution_count": null,
   "id": "5c18ea6b-fe6a-421e-9795-081239c649a1",
   "metadata": {
    "id": "5c18ea6b-fe6a-421e-9795-081239c649a1"
   },
   "outputs": [],
   "source": [
    "# Red simple con ancho parametrizable\n",
    "class SNet(nn.Module):\n",
    "    def __init__(self, width=128):\n",
    "        super().__init__()\n",
    "        #self.capa0=nn.Flatten()   # aplanar la imagen 28x28 -> vector\n",
    "        in_dim = 28 * 28\n",
    "        #la entrada va a una capa oculta con ancho width\n",
    "        self.capa1=nn.Linear(in_dim, width)\n",
    "        #la capa oculta va a una capa de salida que recibe width entradas tiene 10 unidades de ancho\n",
    "        self.capa2=nn.Linear(width, 10)\n",
    "\n",
    "\n",
    "    def forward(self, x):\n",
    "        x = x.view(x.size(0),-1)\n",
    "        #x=self.capa0(x)\n",
    "        #acá ponemos las sigmoides\n",
    "        x=torch.sigmoid(self.capa1(x))\n",
    "        #sacamos la última sigmoide y lo dejamos como una salida lineal; en el entrenamiento el CrossEntropyLoss aplica un LogSoftmax\n",
    "        x=self.capa2(x)\n",
    "        return x\n"
   ]
  },
  {
   "cell_type": "code",
   "execution_count": null,
   "id": "0d2b4445-27ad-4e48-9ad6-4922145cd5e9",
   "metadata": {
    "id": "0d2b4445-27ad-4e48-9ad6-4922145cd5e9"
   },
   "outputs": [],
   "source": [
    "# Especificamos el criterio para medir la pérdida\n",
    "criterion = nn.CrossEntropyLoss()\n",
    "import torch.nn.functional as F\n",
    "def train_model(model, train_loader, val_loader, optimizer, criterion, epochs=5, device=\"cpu\"):\n",
    "    model.to(device)\n",
    "    history = {\"train_loss\": [], \"val_loss\": [], \"val_acc\": []}\n",
    "    for epoch in range(epochs):\n",
    "        # -------- TRAIN --------\n",
    "        model.train()\n",
    "        total_loss = 0\n",
    "        for X, y in train_loader:\n",
    "            # sacamos lo de convertir labels a one-hot\n",
    "            X, y = X.to(device), y.to(device)\n",
    "            optimizer.zero_grad()\n",
    "            out = model(X)\n",
    "            loss = criterion(out, y)\n",
    "            loss.backward()\n",
    "            optimizer.step()\n",
    "            total_loss += loss.item()\n",
    "        avg_loss = total_loss / len(train_loader)\n",
    "        history[\"train_loss\"].append(avg_loss)\n",
    "\n",
    "        # -------- EVAL --------\n",
    "        model.eval()\n",
    "        correct, total, val_loss = 0, 0, 0\n",
    "        with torch.no_grad():\n",
    "            for X, y in val_loader:\n",
    "                # sin one-hot\n",
    "                X, y = X.to(device), y.to(device)\n",
    "                out = model(X)  # 👈 recalculamos forward\n",
    "                loss = criterion(out, y)\n",
    "                val_loss += loss.item()\n",
    "                # accuracy con labels enteros\n",
    "                pred = out.argmax(dim=1).cpu()\n",
    "                correct += (pred == y).sum().item()\n",
    "                total += y.size(0)\n",
    "        history[\"val_loss\"].append(val_loss / len(val_loader))\n",
    "        history[\"val_acc\"].append(correct / total)\n",
    "\n",
    "        print(f\"Epoch {epoch+1}: \"\n",
    "              f\"train_loss={avg_loss:.4f}, \"\n",
    "              f\"val_loss={history['val_loss'][-1]:.4f}, \"\n",
    "              f\"val_acc={history['val_acc'][-1]:.4f}\")\n",
    "    return history"
   ]
  },
  {
   "cell_type": "code",
   "execution_count": null,
   "id": "7915b610-213b-4a99-96d3-e722e3065c44",
   "metadata": {
    "colab": {
     "base_uri": "https://localhost:8080/"
    },
    "executionInfo": {
     "elapsed": 10,
     "status": "ok",
     "timestamp": 1758546372350,
     "user": {
      "displayName": "Felipe Maresca",
      "userId": "00134575873646022799"
     },
     "user_tz": 180
    },
    "id": "7915b610-213b-4a99-96d3-e722e3065c44",
    "outputId": "3967c87e-9e92-454d-f1af-69a179400418"
   },
   "outputs": [],
   "source": [
    "# Crear el modelo\n",
    "mlp2 = SNet(width=256)\n",
    "\n",
    "# Aplicar inicialización personalizada\n",
    "mlp2.apply(init_normal)\n",
    "\n",
    "# Imprimir arquitectura\n",
    "print(mlp2)\n"
   ]
  },
  {
   "cell_type": "code",
   "execution_count": null,
   "id": "e61e81af-5252-4f3c-9b1b-e5967bed64b1",
   "metadata": {
    "colab": {
     "base_uri": "https://localhost:8080/"
    },
    "executionInfo": {
     "elapsed": 174573,
     "status": "ok",
     "timestamp": 1758546546924,
     "user": {
      "displayName": "Felipe Maresca",
      "userId": "00134575873646022799"
     },
     "user_tz": 180
    },
    "id": "e61e81af-5252-4f3c-9b1b-e5967bed64b1",
    "outputId": "8edf408a-e49d-4d42-9a4f-3dc30bf613e9"
   },
   "outputs": [],
   "source": [
    "# Especificamos el optimizador\n",
    "optimizer_mlp = torch.optim.Adam(mlp2.parameters(), lr=1e-3)\n",
    "\n",
    "# Reproducibilidad\n",
    "torch.manual_seed(123)\n",
    "np.random.seed(123)\n",
    "\n",
    "# Iteramos sobre una cierta cantidad de épocas\n",
    "history_CE= train_model(mlp2, train_loader, val_loader, optimizer_mlp, criterion,  15)"
   ]
  },
  {
   "cell_type": "code",
   "execution_count": null,
   "id": "0bc67d5b-fd3d-43b0-91f9-ec45e99b9b97",
   "metadata": {
    "colab": {
     "base_uri": "https://localhost:8080/",
     "height": 447
    },
    "executionInfo": {
     "elapsed": 179,
     "status": "ok",
     "timestamp": 1758546547093,
     "user": {
      "displayName": "Felipe Maresca",
      "userId": "00134575873646022799"
     },
     "user_tz": 180
    },
    "id": "0bc67d5b-fd3d-43b0-91f9-ec45e99b9b97",
    "outputId": "6dd7fc15-b1cf-4a6f-a9e9-e4370c39304e"
   },
   "outputs": [],
   "source": [
    "plt.plot(history_CE[\"train_loss\"])\n",
    "plt.plot(history_CE['val_loss'])"
   ]
  },
  {
   "cell_type": "code",
   "execution_count": null,
   "id": "faaea20b-4257-48fb-af6a-e2bdaf7c3d30",
   "metadata": {
    "colab": {
     "base_uri": "https://localhost:8080/"
    },
    "executionInfo": {
     "elapsed": 1340,
     "status": "ok",
     "timestamp": 1758546548435,
     "user": {
      "displayName": "Felipe Maresca",
      "userId": "00134575873646022799"
     },
     "user_tz": 180
    },
    "id": "faaea20b-4257-48fb-af6a-e2bdaf7c3d30",
    "outputId": "59dc127f-c096-4d2a-d9cb-73cee7e15e65"
   },
   "outputs": [],
   "source": [
    "acc2 = evaluate_accuracy(mlp2, test_loader, device=device)"
   ]
  },
  {
   "cell_type": "markdown",
   "id": "fb1b62cc-db8f-4732-bf24-b22c63a7d5f4",
   "metadata": {
    "id": "fb1b62cc-db8f-4732-bf24-b22c63a7d5f4"
   },
   "source": [
    "# Profundidad o ancho?\n",
    "Esta red tiene sólo una capa oculta de 256 unidades. Capaz que se pueden agregar más unidades. Se supone que cualquier función puede representarse con un perceptron con una sóla capa oculta (de dimensión correcta). Ahí tenemos una decisión que tomar; ponemos más capas o le agregamos más unidades a la capa. Exploremos primero esto.\n",
    "\n",
    "Comparamos:\n",
    "- Una red llana y ancha (1 _hidden layer_ y varias unidades)\n",
    "- Una red profunda y estrecha (muchas capas con pocas unidades)\n",
    "\n",
    "Para hacer la comparación usamos el problema de paridad: Decir 1 si el input tiene un número par de 1s y 0 si es impar.\n",
    "\n",
    "Vamos a greficar las curvas de aprendizaje. La idea es que la red profunda puede demorar más o no, pero aprende mejor.\n",
    "\n",
    "Veremos:\n",
    "- **Curvas de aprendizaje** en paridad de 8-bits\n",
    "- **Comportamiento de scaling** para diferentes tamaños de entrada (4, 8, 12, 16 bits)"
   ]
  },
  {
   "cell_type": "code",
   "execution_count": null,
   "id": "484597b1-ebcc-4c3c-92cf-d4ff08b92417",
   "metadata": {
    "id": "484597b1-ebcc-4c3c-92cf-d4ff08b92417"
   },
   "outputs": [],
   "source": [
    "from torch.utils.data import TensorDataset"
   ]
  },
  {
   "cell_type": "code",
   "execution_count": null,
   "id": "08af1cdb-c550-4e83-b2e7-03c2878efd88",
   "metadata": {
    "id": "08af1cdb-c550-4e83-b2e7-03c2878efd88"
   },
   "outputs": [],
   "source": [
    "def generate_parity_torch(n_bits=8, n_samples=1000):\n",
    "    X = torch.randint(0, 2, (n_samples, n_bits)).float()\n",
    "    y = (X.sum(dim=1) % 2).long()\n",
    "    return X, y"
   ]
  },
  {
   "cell_type": "markdown",
   "id": "5e946531-a746-4096-bca5-1f39a0dda6a0",
   "metadata": {
    "id": "5e946531-a746-4096-bca5-1f39a0dda6a0"
   },
   "source": [
    "Vamos a crear dos redes, una con 128 unidades en la capa oculta (son menos porque el problema es menor que el de los dígitos) y otra que tiene la misma cantidad de unidades en cuatro capas. Usamos otra función de activación, pero eso lo hablamos despúes."
   ]
  },
  {
   "cell_type": "code",
   "execution_count": null,
   "id": "fc4a79de-56f9-406d-893c-05bfbda49b6f",
   "metadata": {
    "id": "fc4a79de-56f9-406d-893c-05bfbda49b6f"
   },
   "outputs": [],
   "source": [
    "class ShallowNet(nn.Module):\n",
    "    def __init__(self, input_dim, hidden_units=128):\n",
    "        super().__init__()\n",
    "        self.fc1 = nn.Linear(input_dim, hidden_units)\n",
    "        self.out = nn.Linear(hidden_units, 2)\n",
    "    def forward(self, x):\n",
    "        return self.out(torch.relu(self.fc1(x)))#\n",
    "\n",
    "class DeepNet(nn.Module):\n",
    "    def __init__(self, input_dim, hidden_units=32, depth=4):\n",
    "        super().__init__()\n",
    "        layers = [nn.Linear(input_dim, hidden_units), nn.ReLU()]\n",
    "        for _ in range(depth-1):\n",
    "            layers.append(nn.Linear(hidden_units, hidden_units))\n",
    "            layers.append(nn.ReLU())\n",
    "        layers.append(nn.Linear(hidden_units, 2))\n",
    "        self.net = nn.Sequential(*layers)\n",
    "    def forward(self, x):\n",
    "        return self.net(x)"
   ]
  },
  {
   "cell_type": "code",
   "execution_count": null,
   "id": "73cdcf35-2890-46c2-9372-893478a3a9cb",
   "metadata": {
    "id": "73cdcf35-2890-46c2-9372-893478a3a9cb"
   },
   "outputs": [],
   "source": [
    "def train_net(model, train_loader, test_loader, epochs=40, lr=1e-3):\n",
    "    criterion = nn.CrossEntropyLoss()\n",
    "    optimizer = optim.Adam(model.parameters(), lr=lr)\n",
    "    train_losses, test_accuracies = [], []\n",
    "\n",
    "    for epoch in range(epochs):\n",
    "        model.train()\n",
    "        total_loss = 0\n",
    "        for Xb, yb in train_loader:\n",
    "            optimizer.zero_grad()\n",
    "            outputs = model(Xb)\n",
    "            loss = criterion(outputs, yb)\n",
    "            loss.backward()\n",
    "            optimizer.step()\n",
    "            total_loss += loss.item()\n",
    "        train_losses.append(total_loss / len(train_loader))\n",
    "\n",
    "        # Evaluate\n",
    "        model.eval()\n",
    "        correct, total = 0, 0\n",
    "        with torch.no_grad():\n",
    "            for Xb, yb in test_loader:\n",
    "                preds = model(Xb).argmax(dim=1)\n",
    "                correct += (preds == yb).sum().item()\n",
    "                total += yb.size(0)\n",
    "        test_accuracies.append(correct/total)\n",
    "    return train_losses, test_accuracies\n"
   ]
  },
  {
   "cell_type": "code",
   "execution_count": null,
   "id": "9dfa9c2e-8693-4ab4-a69e-64a5293658b0",
   "metadata": {
    "colab": {
     "base_uri": "https://localhost:8080/",
     "height": 428
    },
    "executionInfo": {
     "elapsed": 6631,
     "status": "ok",
     "timestamp": 1758546555109,
     "user": {
      "displayName": "Felipe Maresca",
      "userId": "00134575873646022799"
     },
     "user_tz": 180
    },
    "id": "9dfa9c2e-8693-4ab4-a69e-64a5293658b0",
    "outputId": "a38cb464-d480-47af-93b8-be32e801b569"
   },
   "outputs": [],
   "source": [
    "\n",
    "# Data\n",
    "X_train, y_train = generate_parity_torch(8, 2000)\n",
    "X_test, y_test = generate_parity_torch(8, 500)\n",
    "tr_loader = DataLoader(TensorDataset(X_train, y_train), batch_size=64, shuffle=True)\n",
    "tst_loader = DataLoader(TensorDataset(X_test, y_test), batch_size=64)\n",
    "\n",
    "# Models\n",
    "shallow_net = ShallowNet(input_dim=8, hidden_units=128)\n",
    "deep_net = DeepNet(input_dim=8, hidden_units=32, depth=4)\n",
    "\n",
    "# Train\n",
    "shallow_losses, shallow_acc = train_net(shallow_net, tr_loader, tst_loader)\n",
    "deep_losses, deep_acc = train_net(deep_net, tr_loader, tst_loader)\n",
    "\n",
    "# Plot\n",
    "plt.figure(figsize=(12,5))\n",
    "plt.subplot(1,2,1)\n",
    "plt.plot(shallow_losses, label=\"Llana\")\n",
    "plt.plot(deep_losses, label=\"Profunda\")\n",
    "plt.xlabel(\"Epochs\"); plt.ylabel(\"Training Loss\"); plt.title(\"Training Curves\"); plt.legend()\n",
    "\n",
    "plt.subplot(1,2,2)\n",
    "plt.plot(shallow_acc, label=\"Shallow\")\n",
    "plt.plot(deep_acc, label=\"Deep\")\n",
    "plt.xlabel(\"Epochs\"); plt.ylabel(\"Test Accuracy\"); plt.title(\"Test Accuracy Curves\"); plt.legend()\n",
    "plt.show()\n",
    "\n",
    "print(f\"Final Shallow Accuracy: {shallow_acc[-1]:.3f}\")\n",
    "print(f\"Final Deep Accuracy: {deep_acc[-1]:.3f}\")"
   ]
  },
  {
   "cell_type": "markdown",
   "id": "9cbcb2e3-1984-4998-8376-489650ef22e6",
   "metadata": {
    "id": "9cbcb2e3-1984-4998-8376-489650ef22e6"
   },
   "source": [
    "La relevancia de la profundidad se ve mejor si tenemos problemas más complejos. Acá variamos el tamaño del problema y vemos si hay más ventajas de la profunidad cuanto más grande es el problema."
   ]
  },
  {
   "cell_type": "code",
   "execution_count": null,
   "id": "a045fb0a-41bc-4570-af9a-c9991facd719",
   "metadata": {
    "colab": {
     "base_uri": "https://localhost:8080/",
     "height": 556
    },
    "executionInfo": {
     "elapsed": 64920,
     "status": "ok",
     "timestamp": 1758546620028,
     "user": {
      "displayName": "Felipe Maresca",
      "userId": "00134575873646022799"
     },
     "user_tz": 180
    },
    "id": "a045fb0a-41bc-4570-af9a-c9991facd719",
    "outputId": "b2bf0aef-ecfb-45c5-b24f-29dfa57fb6c8"
   },
   "outputs": [],
   "source": [
    "bit_sizes = [4, 8, 12, 16]\n",
    "shallow_final_acc, deep_final_acc = [], []\n",
    "\n",
    "for n_bits in bit_sizes:\n",
    "    X_train, y_train = generate_parity_torch(n_bits, 6000)\n",
    "    X_test, y_test = generate_parity_torch(n_bits, 500)\n",
    "    tr_loader = DataLoader(TensorDataset(X_train, y_train), batch_size=64, shuffle=True)\n",
    "    tst_loader = DataLoader(TensorDataset(X_test, y_test), batch_size=64)\n",
    "\n",
    "    shallow_net = ShallowNet(input_dim=n_bits, hidden_units=128)\n",
    "    deep_net = DeepNet(input_dim=n_bits, hidden_units=32, depth=4)\n",
    "\n",
    "    _, shallow_acc = train_net(shallow_net, tr_loader, tst_loader, epochs=40)\n",
    "    _, deep_acc = train_net(deep_net, tr_loader, tst_loader, epochs=40)\n",
    "\n",
    "    shallow_final_acc.append(shallow_acc[-1])\n",
    "    deep_final_acc.append(deep_acc[-1])\n",
    "    print(f\"{n_bits}-bit → Shallow: {shallow_acc[-1]:.3f}, Deep: {deep_acc[-1]:.3f}\")\n",
    "\n",
    "# Plot scaling\n",
    "plt.figure(figsize=(6,5))\n",
    "plt.plot(bit_sizes, shallow_final_acc, marker='o', label=\"Shallow\")\n",
    "plt.plot(bit_sizes, deep_final_acc, marker='o', label=\"Deep\")\n",
    "plt.xlabel(\"Number of bits (input size)\")\n",
    "plt.ylabel(\"Final Test Accuracy\")\n",
    "plt.title(\"Scaling: Shallow vs Deep on Parity\")\n",
    "plt.legend()\n",
    "plt.show()\n"
   ]
  },
  {
   "cell_type": "markdown",
   "id": "9f654dbc-9306-4b12-a317-e4aeed0e148a",
   "metadata": {
    "id": "9f654dbc-9306-4b12-a317-e4aeed0e148a"
   },
   "source": [
    "## Volvemos al _dataset_ MNIST\n",
    "Ahora vamos a crear una red profunda, a ver si mejoramos el accuracy"
   ]
  },
  {
   "cell_type": "code",
   "execution_count": null,
   "id": "e2e68c0b-65fb-4544-be50-62177168e717",
   "metadata": {
    "id": "e2e68c0b-65fb-4544-be50-62177168e717"
   },
   "outputs": [],
   "source": [
    "# ----- Definir red profunda -----\n",
    "class DeepMLP(nn.Module):\n",
    "    def __init__(self, in_dim, out_dim, width=64, depth=4):\n",
    "        super().__init__()\n",
    "        layers = [nn.Linear(in_dim, width)]\n",
    "        for i in range(1,depth):\n",
    "            layers.append(nn.Linear(width, width))\n",
    "        layers.append(nn.Linear(width, out_dim))  # capa de salida\n",
    "        self.layers = nn.ModuleList(layers)\n",
    "    def forward(self, x):\n",
    "        x = x.view(x.size(0),-1)\n",
    "        for layer in self.layers[:-1]:\n",
    "            x = F.sigmoid(layer(x))\n",
    "        out = self.layers[-1](x)  # salida (sin activación para usar softmax)\n",
    "        return out# ----- Definir red profunda -----\n"
   ]
  },
  {
   "cell_type": "code",
   "execution_count": null,
   "id": "2c61666d-cf03-451b-858c-97b35ed07fae",
   "metadata": {
    "colab": {
     "base_uri": "https://localhost:8080/"
    },
    "executionInfo": {
     "elapsed": 8,
     "status": "ok",
     "timestamp": 1758546620042,
     "user": {
      "displayName": "Felipe Maresca",
      "userId": "00134575873646022799"
     },
     "user_tz": 180
    },
    "id": "2c61666d-cf03-451b-858c-97b35ed07fae",
    "outputId": "eef4801d-9cf8-4836-caca-e56dceb16c4a",
    "scrolled": true
   },
   "outputs": [],
   "source": [
    "# Crear el modelo\n",
    "mlp3 = DeepMLP(28*28, 10, 64,4)\n",
    "\n",
    "# Imprimir arquitectura\n",
    "print(mlp3)"
   ]
  },
  {
   "cell_type": "code",
   "execution_count": null,
   "id": "2cdfaf08-dbeb-4766-ad8c-1edc690d6b65",
   "metadata": {
    "colab": {
     "base_uri": "https://localhost:8080/"
    },
    "executionInfo": {
     "elapsed": 156924,
     "status": "ok",
     "timestamp": 1758546776968,
     "user": {
      "displayName": "Felipe Maresca",
      "userId": "00134575873646022799"
     },
     "user_tz": 180
    },
    "id": "2cdfaf08-dbeb-4766-ad8c-1edc690d6b65",
    "outputId": "cca029c2-1e01-418c-99ce-2147ccb2bf88"
   },
   "outputs": [],
   "source": [
    "import numpy as np\n",
    "# Especificamos el optimizador\n",
    "optimizer_mlp = torch.optim.Adam(mlp3.parameters(), lr=1e-3)\n",
    "\n",
    "# Reproducibilidad\n",
    "torch.manual_seed(13)\n",
    "np.random.seed(13)\n",
    "\n",
    "# Iteramos sobre una cierta cantidad de épocas\n",
    "history_deep= train_model(mlp3, train_loader, val_loader, optimizer_mlp, criterion,  15)"
   ]
  },
  {
   "cell_type": "code",
   "execution_count": null,
   "id": "50cf5d8d-3309-4c9a-aa1c-d8a0eea57b61",
   "metadata": {
    "colab": {
     "base_uri": "https://localhost:8080/",
     "height": 447
    },
    "executionInfo": {
     "elapsed": 139,
     "status": "ok",
     "timestamp": 1758546777100,
     "user": {
      "displayName": "Felipe Maresca",
      "userId": "00134575873646022799"
     },
     "user_tz": 180
    },
    "id": "50cf5d8d-3309-4c9a-aa1c-d8a0eea57b61",
    "outputId": "057bf491-0f17-4254-843e-84437951e090"
   },
   "outputs": [],
   "source": [
    "plt.plot(history_deep[\"train_loss\"]) # linea azul\n",
    "plt.plot(history_deep['val_loss']) # linea naranja"
   ]
  },
  {
   "cell_type": "code",
   "execution_count": null,
   "id": "59bcfd5d-f403-490d-a058-eff390169bbb",
   "metadata": {
    "colab": {
     "base_uri": "https://localhost:8080/"
    },
    "executionInfo": {
     "elapsed": 1708,
     "status": "ok",
     "timestamp": 1758546778810,
     "user": {
      "displayName": "Felipe Maresca",
      "userId": "00134575873646022799"
     },
     "user_tz": 180
    },
    "id": "59bcfd5d-f403-490d-a058-eff390169bbb",
    "outputId": "3c7c21a6-6fb7-4954-bd4b-64d38a1e0f77"
   },
   "outputs": [],
   "source": [
    "acc3 = evaluate_accuracy(mlp3, test_loader, device=device)"
   ]
  },
  {
   "cell_type": "markdown",
   "id": "b5cc0f5a-5816-490a-bb2a-dd40d9faf18c",
   "metadata": {
    "id": "b5cc0f5a-5816-490a-bb2a-dd40d9faf18c"
   },
   "source": [
    "Si comparan con el valor de accuracy anterior, no parece que acá esté funcionando lo de poner más capas. Seguramente hay que poner más neuronas, pero la caída lenta del error y la no generalización (noten que el error de validación no baja mucho más allá de la época 10) hace pensar que hay algo más.\n",
    "Sugaremente esto es una instancia del _**vanishing gradient problem**_."
   ]
  },
  {
   "cell_type": "markdown",
   "id": "7e63f858-819f-4546-aaf2-41030c9f9003",
   "metadata": {
    "id": "7e63f858-819f-4546-aaf2-41030c9f9003"
   },
   "source": [
    "## Cambiando la función de activación\n",
    "Hagamos una red en donde usamos funciones ReLU"
   ]
  },
  {
   "cell_type": "code",
   "execution_count": null,
   "id": "44a90315-907b-4e60-b955-4813805a506f",
   "metadata": {
    "id": "44a90315-907b-4e60-b955-4813805a506f"
   },
   "outputs": [],
   "source": [
    "# ----- Definir red profunda -----\n",
    "class DeepMLPR(nn.Module):\n",
    "    def __init__(self, in_dim, out_dim, width=64, depth=4):\n",
    "        super().__init__()\n",
    "        layers = [nn.Linear(in_dim, width)]\n",
    "        for i in range(1,depth):\n",
    "            layers.append(nn.Linear(width, width))\n",
    "        layers.append(nn.Linear(width, out_dim))  # capa de salida\n",
    "        self.layers = nn.ModuleList(layers)\n",
    "    def forward(self, x):\n",
    "        x = x.view(x.size(0),-1)\n",
    "        for layer in self.layers[:-1]:\n",
    "            x = F.relu(layer(x))\n",
    "        out = self.layers[-1](x)  # salida (sin activación para usar softmax)\n",
    "        return out# ----- Definir red profunda -----\n"
   ]
  },
  {
   "cell_type": "code",
   "execution_count": null,
   "id": "28327343-21cc-40a9-9a9b-41678ecd5a0e",
   "metadata": {
    "colab": {
     "base_uri": "https://localhost:8080/"
    },
    "executionInfo": {
     "elapsed": 17,
     "status": "ok",
     "timestamp": 1758546778846,
     "user": {
      "displayName": "Felipe Maresca",
      "userId": "00134575873646022799"
     },
     "user_tz": 180
    },
    "id": "28327343-21cc-40a9-9a9b-41678ecd5a0e",
    "outputId": "66d1fa81-7b3c-42ae-dc1c-e25ea6c3ac26"
   },
   "outputs": [],
   "source": [
    "# Crear el modelo\n",
    "mlp4 = DeepMLPR(28*28, 10, 64,4)\n",
    "\n",
    "# Imprimir arquitectura\n",
    "print(mlp4)"
   ]
  },
  {
   "cell_type": "code",
   "execution_count": null,
   "id": "b8bc2dcc-f9e2-478a-ab98-5c6ea3bdd93c",
   "metadata": {
    "colab": {
     "base_uri": "https://localhost:8080/"
    },
    "executionInfo": {
     "elapsed": 158570,
     "status": "ok",
     "timestamp": 1758546937418,
     "user": {
      "displayName": "Felipe Maresca",
      "userId": "00134575873646022799"
     },
     "user_tz": 180
    },
    "id": "b8bc2dcc-f9e2-478a-ab98-5c6ea3bdd93c",
    "outputId": "778e2a71-4d96-49e5-f512-d3e17089a66e"
   },
   "outputs": [],
   "source": [
    "# Especificamos el optimizador\n",
    "optimizer_mlp = torch.optim.Adam(mlp4.parameters(), lr=1e-3)\n",
    "\n",
    "# Reproducibilidad\n",
    "torch.manual_seed(13)\n",
    "np.random.seed(13)\n",
    "\n",
    "# Iteramos sobre una cierta cantidad de épocas\n",
    "history_deepR= train_model(mlp4, train_loader, val_loader, optimizer_mlp, criterion,  15)"
   ]
  },
  {
   "cell_type": "code",
   "execution_count": null,
   "id": "0d5d2630-1002-4a35-af70-547c4527ff17",
   "metadata": {
    "colab": {
     "base_uri": "https://localhost:8080/",
     "height": 447
    },
    "executionInfo": {
     "elapsed": 161,
     "status": "ok",
     "timestamp": 1758546937580,
     "user": {
      "displayName": "Felipe Maresca",
      "userId": "00134575873646022799"
     },
     "user_tz": 180
    },
    "id": "0d5d2630-1002-4a35-af70-547c4527ff17",
    "outputId": "66441cd4-685b-4294-ff07-d4042bfc8f55"
   },
   "outputs": [],
   "source": [
    "plt.plot(history_deepR[\"train_loss\"])\n",
    "plt.plot(history_deepR['val_loss'])"
   ]
  },
  {
   "cell_type": "code",
   "execution_count": null,
   "id": "c437adf9-4f15-4efc-9da0-44e899d53485",
   "metadata": {
    "colab": {
     "base_uri": "https://localhost:8080/"
    },
    "executionInfo": {
     "elapsed": 1319,
     "status": "ok",
     "timestamp": 1758546938901,
     "user": {
      "displayName": "Felipe Maresca",
      "userId": "00134575873646022799"
     },
     "user_tz": 180
    },
    "id": "c437adf9-4f15-4efc-9da0-44e899d53485",
    "outputId": "1811e2c6-a31d-45ce-fbb5-4e2209944db5"
   },
   "outputs": [],
   "source": [
    "acc4 = evaluate_accuracy(mlp4, test_loader, device=device)"
   ]
  },
  {
   "cell_type": "markdown",
   "id": "340c12d3-bbb6-41ec-9eac-dd3388462584",
   "metadata": {
    "id": "340c12d3-bbb6-41ec-9eac-dd3388462584"
   },
   "source": [
    "Esto parece mejorar. También deberíamos mirar la inicialización"
   ]
  },
  {
   "cell_type": "markdown",
   "id": "9deb22a4-7d56-4374-8d61-c5db87c0a723",
   "metadata": {
    "id": "9deb22a4-7d56-4374-8d61-c5db87c0a723"
   },
   "source": [
    "## Cambiando la inicialización"
   ]
  },
  {
   "cell_type": "markdown",
   "id": "3952a42b-b72e-4ac3-8cca-3c97872f4a09",
   "metadata": {
    "id": "3952a42b-b72e-4ac3-8cca-3c97872f4a09"
   },
   "source": [
    "En la década 2010-2020 aparecieron varios trabajos que exploraban varias formas de iniciar los pesos de la red, lo que tenía un efecto sobre el entrenamianeto. Probemos qué pasa con un ejemplo de juguete."
   ]
  },
  {
   "cell_type": "code",
   "execution_count": null,
   "id": "70311cd8-f95d-438a-b411-f31357f7cf8f",
   "metadata": {
    "id": "70311cd8-f95d-438a-b411-f31357f7cf8f"
   },
   "outputs": [],
   "source": [
    "# ----- Definir red profunda -----\n",
    "class DeepMLP_i(nn.Module):\n",
    "    def __init__(self, init_type=\"xavier\", depth=15, width=128, in_dim=100, out_dim=10):\n",
    "        super().__init__()\n",
    "        layers = []\n",
    "        for i in range(depth):\n",
    "            layers.append(nn.Linear(in_dim if i == 0 else width, width))\n",
    "        layers.append(nn.Linear(width, out_dim))  # capa de salida\n",
    "        self.layers = nn.ModuleList(layers)\n",
    "        self.init_type = init_type\n",
    "        self.reset_parameters()\n",
    "\n",
    "    def reset_parameters(self):\n",
    "        for layer in self.layers:\n",
    "            if isinstance(layer, nn.Linear):\n",
    "                if self.init_type == \"xavier\":\n",
    "                    nn.init.xavier_uniform_(layer.weight)\n",
    "                elif self.init_type == \"he\":\n",
    "                    nn.init.kaiming_uniform_(layer.weight, nonlinearity=\"relu\")\n",
    "                elif self.init_type == \"orthogonal\":\n",
    "                    nn.init.orthogonal_(layer.weight, gain=torch.sqrt(torch.tensor(2.0)))\n",
    "                nn.init.zeros_(layer.bias)\n",
    "\n",
    "    def forward(self, x):\n",
    "        activations = []\n",
    "        for layer in self.layers[:-1]:\n",
    "            x = F.relu(layer(x))\n",
    "            activations.append(x.detach().std().item())\n",
    "        out = self.layers[-1](x)  # salida (sin ReLU)\n",
    "        return out, activations\n",
    "\n",
    "# ----- Función para obtener estadísticas -----\n",
    "def probe_stats(net, batch_size=64, in_dim=100):\n",
    "    #estos son los datos\n",
    "    x = torch.randn(batch_size, in_dim)\n",
    "    out, activations = net(x)\n",
    "    # Backprop para ver gradientes\n",
    "    loss = out.pow(2).mean()\n",
    "    loss.backward()\n",
    "    grad_norms = [layer.weight.grad.std().item() for layer in net.layers if hasattr(layer.weight, \"grad\")]\n",
    "    return activations, grad_norms\n"
   ]
  },
  {
   "cell_type": "code",
   "execution_count": null,
   "id": "30b5a439-431e-42dc-9bfc-051d5eae8259",
   "metadata": {
    "id": "30b5a439-431e-42dc-9bfc-051d5eae8259"
   },
   "outputs": [],
   "source": [
    "# ----- Experimento -----\n",
    "depth = 15\n",
    "inits = [\"xavier\", \"he\", \"orthogonal\"]\n",
    "results = {}\n",
    "\n",
    "for init in inits:\n",
    "    net = DeepMLP_i(init_type=init, depth=depth, width=128)\n",
    "    activations, grads = probe_stats(net)\n",
    "    results[init] = {\"activations\": activations, \"grads\": grads}\n"
   ]
  },
  {
   "cell_type": "code",
   "execution_count": null,
   "id": "2ef84219-4780-4982-9fc2-2c9e0c1945b8",
   "metadata": {
    "colab": {
     "base_uri": "https://localhost:8080/",
     "height": 348
    },
    "executionInfo": {
     "elapsed": 497,
     "status": "ok",
     "timestamp": 1758546939446,
     "user": {
      "displayName": "Felipe Maresca",
      "userId": "00134575873646022799"
     },
     "user_tz": 180
    },
    "id": "2ef84219-4780-4982-9fc2-2c9e0c1945b8",
    "outputId": "d7596e9f-149e-4459-c361-b77f78d50e76"
   },
   "outputs": [],
   "source": [
    "# ----- Graficar -----\n",
    "plt.figure(figsize=(12,5))\n",
    "\n",
    "# Activaciones\n",
    "plt.subplot(1,2,1)\n",
    "for init in inits:\n",
    "    plt.plot(results[init][\"activations\"], label=init)\n",
    "plt.xlabel(\"Capa oculta (0 = primera)\")\n",
    "plt.ylabel(\"Std activaciones\")\n",
    "plt.title(\"Propagación de activaciones\")\n",
    "plt.legend()\n",
    "plt.grid(True)\n",
    "\n",
    "# Gradientes\n",
    "plt.subplot(1,2,2)\n",
    "for init in inits:\n",
    "    plt.plot(results[init][\"grads\"], label=init)\n",
    "plt.xlabel(\"Capa (0 = primera oculta)\")\n",
    "plt.ylabel(\"Std gradientes\")\n",
    "plt.title(\"Propagación de gradientes\")\n",
    "plt.legend()\n",
    "plt.grid(True)\n",
    "\n",
    "plt.tight_layout()\n",
    "plt.show()"
   ]
  },
  {
   "cell_type": "markdown",
   "id": "c05fb450-474e-49c6-9f0d-1bb9ec361793",
   "metadata": {
    "id": "c05fb450-474e-49c6-9f0d-1bb9ec361793"
   },
   "source": [
    "En el caso de nuestra última red, lo que parece funcionar mejor (con unidades ReLU, es la inicialización de He. POngamos eso y vemos qué pasa."
   ]
  },
  {
   "cell_type": "markdown",
   "id": "fb30b4de-426d-4391-9c82-b62860e46700",
   "metadata": {
    "id": "fb30b4de-426d-4391-9c82-b62860e46700"
   },
   "source": [
    "## De vuelta a MNIST"
   ]
  },
  {
   "cell_type": "code",
   "execution_count": null,
   "id": "93370833-cd03-4bb8-8c3e-a2ab7b857089",
   "metadata": {
    "id": "93370833-cd03-4bb8-8c3e-a2ab7b857089"
   },
   "outputs": [],
   "source": [
    "# ----- Definir red profunda -----\n",
    "class DeepMLPI(nn.Module):\n",
    "    def __init__(self, in_dim, out_dim, width=64, depth=4):\n",
    "        super().__init__()\n",
    "        layers = [nn.Linear(in_dim, width)]\n",
    "        for i in range(1,depth):\n",
    "            layers.append(nn.Linear(width, width))\n",
    "        layers.append(nn.Linear(width, out_dim))  # capa de salida\n",
    "        self.layers = nn.ModuleList(layers)\n",
    "        self.reset_parameters()\n",
    "\n",
    "    def reset_parameters(self):\n",
    "        for layer in self.layers:\n",
    "            if isinstance(layer, nn.Linear):\n",
    "                nn.init.kaiming_uniform_(layer.weight, nonlinearity=\"relu\")\n",
    "                nn.init.zeros_(layer.bias)\n",
    "    def forward(self, x):\n",
    "        x = x.view(x.size(0),-1)\n",
    "        for layer in self.layers[:-1]:\n",
    "            x = F.relu(layer(x))\n",
    "        out = self.layers[-1](x)  # salida (sin activación para usar softmax)\n",
    "        return out# ----- Definir red profunda -----"
   ]
  },
  {
   "cell_type": "code",
   "execution_count": null,
   "id": "fb21246b-8a01-4379-9485-268ad0a64073",
   "metadata": {
    "id": "fb21246b-8a01-4379-9485-268ad0a64073"
   },
   "outputs": [],
   "source": [
    "# Crear el modelo\n",
    "mlp5 = DeepMLPI(28*28, 10, 64,4)\n"
   ]
  },
  {
   "cell_type": "code",
   "execution_count": null,
   "id": "665e7ce4-87dc-4de3-987c-94b08314858d",
   "metadata": {
    "colab": {
     "base_uri": "https://localhost:8080/"
    },
    "executionInfo": {
     "elapsed": 156236,
     "status": "ok",
     "timestamp": 1758547095708,
     "user": {
      "displayName": "Felipe Maresca",
      "userId": "00134575873646022799"
     },
     "user_tz": 180
    },
    "id": "665e7ce4-87dc-4de3-987c-94b08314858d",
    "outputId": "5807062f-3eec-4f75-fb25-9b28878fc2df"
   },
   "outputs": [],
   "source": [
    "# Especificamos el optimizador\n",
    "optimizer_mlp = torch.optim.Adam(mlp5.parameters(), lr=1e-3)\n",
    "\n",
    "# Reproducibilidad\n",
    "torch.manual_seed(234)\n",
    "np.random.seed(234)\n",
    "\n",
    "# Iteramos sobre una cierta cantidad de épocas\n",
    "history_deepI= train_model(mlp5, train_loader, val_loader, optimizer_mlp, criterion,  15)"
   ]
  },
  {
   "cell_type": "code",
   "execution_count": null,
   "id": "10664b36-8f92-4e92-b1cc-35776c7dcd34",
   "metadata": {
    "colab": {
     "base_uri": "https://localhost:8080/",
     "height": 447
    },
    "executionInfo": {
     "elapsed": 157,
     "status": "ok",
     "timestamp": 1758547095866,
     "user": {
      "displayName": "Felipe Maresca",
      "userId": "00134575873646022799"
     },
     "user_tz": 180
    },
    "id": "10664b36-8f92-4e92-b1cc-35776c7dcd34",
    "outputId": "01b9d9b2-25a5-43a9-951d-4964b313de98"
   },
   "outputs": [],
   "source": [
    "plt.plot(history_deepI[\"train_loss\"])\n",
    "plt.plot(history_deepI['val_loss'])"
   ]
  },
  {
   "cell_type": "code",
   "execution_count": null,
   "id": "f342ae08-488b-40f0-af5d-799fb87128db",
   "metadata": {
    "colab": {
     "base_uri": "https://localhost:8080/"
    },
    "executionInfo": {
     "elapsed": 1362,
     "status": "ok",
     "timestamp": 1758547097230,
     "user": {
      "displayName": "Felipe Maresca",
      "userId": "00134575873646022799"
     },
     "user_tz": 180
    },
    "id": "f342ae08-488b-40f0-af5d-799fb87128db",
    "outputId": "40a0bb38-9cb1-415a-df82-46edcb0ebded"
   },
   "outputs": [],
   "source": [
    "acc5 = evaluate_accuracy(mlp5, test_loader, device=device)"
   ]
  },
  {
   "cell_type": "code",
   "execution_count": null,
   "id": "5a4b3eb2-0f23-44ee-b33c-3ecc752465a0",
   "metadata": {
    "id": "5a4b3eb2-0f23-44ee-b33c-3ecc752465a0"
   },
   "outputs": [],
   "source": []
  }
 ],
 "metadata": {
  "colab": {
   "provenance": []
  },
  "kernelspec": {
   "display_name": "Python 3 (ipykernel)",
   "language": "python",
   "name": "python3"
  },
  "language_info": {
   "codemirror_mode": {
    "name": "ipython",
    "version": 3
   },
   "file_extension": ".py",
   "mimetype": "text/x-python",
   "name": "python",
   "nbconvert_exporter": "python",
   "pygments_lexer": "ipython3",
   "version": "3.12.7"
  },
  "widgets": {
   "application/vnd.jupyter.widget-state+json": {
    "18b3a5d6fa3d4c3b8a56fbebba54bfc2": {
     "model_module": "@jupyter-widgets/output",
     "model_module_version": "1.0.0",
     "model_name": "OutputModel",
     "state": {
      "_dom_classes": [],
      "_model_module": "@jupyter-widgets/output",
      "_model_module_version": "1.0.0",
      "_model_name": "OutputModel",
      "_view_count": null,
      "_view_module": "@jupyter-widgets/output",
      "_view_module_version": "1.0.0",
      "_view_name": "OutputView",
      "layout": "IPY_MODEL_cac427de865345d795077f17de55ebab",
      "msg_id": "",
      "outputs": [
       {
        "data": {
         "image/png": "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\n",
         "text/plain": "<Figure size 640x480 with 1 Axes>"
        },
        "metadata": {},
        "output_type": "display_data"
       },
       {
        "name": "stdout",
        "output_type": "stream",
        "text": [
         "Vector de salida (softmax):\n",
         "0: 0.085\n",
         "1: 0.085\n",
         "2: 0.085\n",
         "3: 0.085\n",
         "4: 0.085\n",
         "5: 0.085\n",
         "6: 0.085\n",
         "7: 0.232\n",
         "8: 0.085\n",
         "9: 0.085\n"
        ]
       }
      ]
     }
    },
    "2101e074cbe5447aa6b06c20aaa2abe9": {
     "model_module": "@jupyter-widgets/base",
     "model_module_version": "1.2.0",
     "model_name": "LayoutModel",
     "state": {
      "_model_module": "@jupyter-widgets/base",
      "_model_module_version": "1.2.0",
      "_model_name": "LayoutModel",
      "_view_count": null,
      "_view_module": "@jupyter-widgets/base",
      "_view_module_version": "1.2.0",
      "_view_name": "LayoutView",
      "align_content": null,
      "align_items": null,
      "align_self": null,
      "border": null,
      "bottom": null,
      "display": null,
      "flex": null,
      "flex_flow": null,
      "grid_area": null,
      "grid_auto_columns": null,
      "grid_auto_flow": null,
      "grid_auto_rows": null,
      "grid_column": null,
      "grid_gap": null,
      "grid_row": null,
      "grid_template_areas": null,
      "grid_template_columns": null,
      "grid_template_rows": null,
      "height": null,
      "justify_content": null,
      "justify_items": null,
      "left": null,
      "margin": null,
      "max_height": null,
      "max_width": null,
      "min_height": null,
      "min_width": null,
      "object_fit": null,
      "object_position": null,
      "order": null,
      "overflow": null,
      "overflow_x": null,
      "overflow_y": null,
      "padding": null,
      "right": null,
      "top": null,
      "visibility": null,
      "width": null
     }
    },
    "46f62bbc29c44d0f8c0cc3b6f8ed0fb8": {
     "model_module": "@jupyter-widgets/controls",
     "model_module_version": "1.5.0",
     "model_name": "IntSliderModel",
     "state": {
      "_dom_classes": [],
      "_model_module": "@jupyter-widgets/controls",
      "_model_module_version": "1.5.0",
      "_model_name": "IntSliderModel",
      "_view_count": null,
      "_view_module": "@jupyter-widgets/controls",
      "_view_module_version": "1.5.0",
      "_view_name": "IntSliderView",
      "continuous_update": true,
      "description": "Index",
      "description_tooltip": null,
      "disabled": false,
      "layout": "IPY_MODEL_a679140a80154d4ab123c35c52b44d1d",
      "max": 59999,
      "min": 0,
      "orientation": "horizontal",
      "readout": true,
      "readout_format": "d",
      "step": 1,
      "style": "IPY_MODEL_ba4d3b28c50b4585bfb479e0a7804889",
      "value": 0
     }
    },
    "5dda43c81a2f4a03922010e5bf9e723c": {
     "model_module": "@jupyter-widgets/controls",
     "model_module_version": "1.5.0",
     "model_name": "VBoxModel",
     "state": {
      "_dom_classes": [
       "widget-interact"
      ],
      "_model_module": "@jupyter-widgets/controls",
      "_model_module_version": "1.5.0",
      "_model_name": "VBoxModel",
      "_view_count": null,
      "_view_module": "@jupyter-widgets/controls",
      "_view_module_version": "1.5.0",
      "_view_name": "VBoxView",
      "box_style": "",
      "children": [
       "IPY_MODEL_8277c671cbc845739e59f0945609452f",
       "IPY_MODEL_18b3a5d6fa3d4c3b8a56fbebba54bfc2"
      ],
      "layout": "IPY_MODEL_c2d08526f5904595b9d07e43ff3df7c9"
     }
    },
    "8277c671cbc845739e59f0945609452f": {
     "model_module": "@jupyter-widgets/controls",
     "model_module_version": "1.5.0",
     "model_name": "IntSliderModel",
     "state": {
      "_dom_classes": [],
      "_model_module": "@jupyter-widgets/controls",
      "_model_module_version": "1.5.0",
      "_model_name": "IntSliderModel",
      "_view_count": null,
      "_view_module": "@jupyter-widgets/controls",
      "_view_module_version": "1.5.0",
      "_view_name": "IntSliderView",
      "continuous_update": true,
      "description": "Index",
      "description_tooltip": null,
      "disabled": false,
      "layout": "IPY_MODEL_e768b7c4494e4a18bac2e9f1f9eb750f",
      "max": 9999,
      "min": 0,
      "orientation": "horizontal",
      "readout": true,
      "readout_format": "d",
      "step": 1,
      "style": "IPY_MODEL_8a78506f9d254757af92f83b8bf78188",
      "value": 0
     }
    },
    "8a78506f9d254757af92f83b8bf78188": {
     "model_module": "@jupyter-widgets/controls",
     "model_module_version": "1.5.0",
     "model_name": "SliderStyleModel",
     "state": {
      "_model_module": "@jupyter-widgets/controls",
      "_model_module_version": "1.5.0",
      "_model_name": "SliderStyleModel",
      "_view_count": null,
      "_view_module": "@jupyter-widgets/base",
      "_view_module_version": "1.2.0",
      "_view_name": "StyleView",
      "description_width": "",
      "handle_color": null
     }
    },
    "a679140a80154d4ab123c35c52b44d1d": {
     "model_module": "@jupyter-widgets/base",
     "model_module_version": "1.2.0",
     "model_name": "LayoutModel",
     "state": {
      "_model_module": "@jupyter-widgets/base",
      "_model_module_version": "1.2.0",
      "_model_name": "LayoutModel",
      "_view_count": null,
      "_view_module": "@jupyter-widgets/base",
      "_view_module_version": "1.2.0",
      "_view_name": "LayoutView",
      "align_content": null,
      "align_items": null,
      "align_self": null,
      "border": null,
      "bottom": null,
      "display": null,
      "flex": null,
      "flex_flow": null,
      "grid_area": null,
      "grid_auto_columns": null,
      "grid_auto_flow": null,
      "grid_auto_rows": null,
      "grid_column": null,
      "grid_gap": null,
      "grid_row": null,
      "grid_template_areas": null,
      "grid_template_columns": null,
      "grid_template_rows": null,
      "height": null,
      "justify_content": null,
      "justify_items": null,
      "left": null,
      "margin": null,
      "max_height": null,
      "max_width": null,
      "min_height": null,
      "min_width": null,
      "object_fit": null,
      "object_position": null,
      "order": null,
      "overflow": null,
      "overflow_x": null,
      "overflow_y": null,
      "padding": null,
      "right": null,
      "top": null,
      "visibility": null,
      "width": null
     }
    },
    "aea48668ee4442a097d76a58ea8ae3b1": {
     "model_module": "@jupyter-widgets/base",
     "model_module_version": "1.2.0",
     "model_name": "LayoutModel",
     "state": {
      "_model_module": "@jupyter-widgets/base",
      "_model_module_version": "1.2.0",
      "_model_name": "LayoutModel",
      "_view_count": null,
      "_view_module": "@jupyter-widgets/base",
      "_view_module_version": "1.2.0",
      "_view_name": "LayoutView",
      "align_content": null,
      "align_items": null,
      "align_self": null,
      "border": null,
      "bottom": null,
      "display": null,
      "flex": null,
      "flex_flow": null,
      "grid_area": null,
      "grid_auto_columns": null,
      "grid_auto_flow": null,
      "grid_auto_rows": null,
      "grid_column": null,
      "grid_gap": null,
      "grid_row": null,
      "grid_template_areas": null,
      "grid_template_columns": null,
      "grid_template_rows": null,
      "height": null,
      "justify_content": null,
      "justify_items": null,
      "left": null,
      "margin": null,
      "max_height": null,
      "max_width": null,
      "min_height": null,
      "min_width": null,
      "object_fit": null,
      "object_position": null,
      "order": null,
      "overflow": null,
      "overflow_x": null,
      "overflow_y": null,
      "padding": null,
      "right": null,
      "top": null,
      "visibility": null,
      "width": null
     }
    },
    "ba4d3b28c50b4585bfb479e0a7804889": {
     "model_module": "@jupyter-widgets/controls",
     "model_module_version": "1.5.0",
     "model_name": "SliderStyleModel",
     "state": {
      "_model_module": "@jupyter-widgets/controls",
      "_model_module_version": "1.5.0",
      "_model_name": "SliderStyleModel",
      "_view_count": null,
      "_view_module": "@jupyter-widgets/base",
      "_view_module_version": "1.2.0",
      "_view_name": "StyleView",
      "description_width": "",
      "handle_color": null
     }
    },
    "c2d08526f5904595b9d07e43ff3df7c9": {
     "model_module": "@jupyter-widgets/base",
     "model_module_version": "1.2.0",
     "model_name": "LayoutModel",
     "state": {
      "_model_module": "@jupyter-widgets/base",
      "_model_module_version": "1.2.0",
      "_model_name": "LayoutModel",
      "_view_count": null,
      "_view_module": "@jupyter-widgets/base",
      "_view_module_version": "1.2.0",
      "_view_name": "LayoutView",
      "align_content": null,
      "align_items": null,
      "align_self": null,
      "border": null,
      "bottom": null,
      "display": null,
      "flex": null,
      "flex_flow": null,
      "grid_area": null,
      "grid_auto_columns": null,
      "grid_auto_flow": null,
      "grid_auto_rows": null,
      "grid_column": null,
      "grid_gap": null,
      "grid_row": null,
      "grid_template_areas": null,
      "grid_template_columns": null,
      "grid_template_rows": null,
      "height": null,
      "justify_content": null,
      "justify_items": null,
      "left": null,
      "margin": null,
      "max_height": null,
      "max_width": null,
      "min_height": null,
      "min_width": null,
      "object_fit": null,
      "object_position": null,
      "order": null,
      "overflow": null,
      "overflow_x": null,
      "overflow_y": null,
      "padding": null,
      "right": null,
      "top": null,
      "visibility": null,
      "width": null
     }
    },
    "c672654f1c5c4ec2bf833a622896c15e": {
     "model_module": "@jupyter-widgets/controls",
     "model_module_version": "1.5.0",
     "model_name": "VBoxModel",
     "state": {
      "_dom_classes": [
       "widget-interact"
      ],
      "_model_module": "@jupyter-widgets/controls",
      "_model_module_version": "1.5.0",
      "_model_name": "VBoxModel",
      "_view_count": null,
      "_view_module": "@jupyter-widgets/controls",
      "_view_module_version": "1.5.0",
      "_view_name": "VBoxView",
      "box_style": "",
      "children": [
       "IPY_MODEL_46f62bbc29c44d0f8c0cc3b6f8ed0fb8",
       "IPY_MODEL_fd454d791d2d40ffa6f54ed1ecc6e23b"
      ],
      "layout": "IPY_MODEL_aea48668ee4442a097d76a58ea8ae3b1"
     }
    },
    "cac427de865345d795077f17de55ebab": {
     "model_module": "@jupyter-widgets/base",
     "model_module_version": "1.2.0",
     "model_name": "LayoutModel",
     "state": {
      "_model_module": "@jupyter-widgets/base",
      "_model_module_version": "1.2.0",
      "_model_name": "LayoutModel",
      "_view_count": null,
      "_view_module": "@jupyter-widgets/base",
      "_view_module_version": "1.2.0",
      "_view_name": "LayoutView",
      "align_content": null,
      "align_items": null,
      "align_self": null,
      "border": null,
      "bottom": null,
      "display": null,
      "flex": null,
      "flex_flow": null,
      "grid_area": null,
      "grid_auto_columns": null,
      "grid_auto_flow": null,
      "grid_auto_rows": null,
      "grid_column": null,
      "grid_gap": null,
      "grid_row": null,
      "grid_template_areas": null,
      "grid_template_columns": null,
      "grid_template_rows": null,
      "height": null,
      "justify_content": null,
      "justify_items": null,
      "left": null,
      "margin": null,
      "max_height": null,
      "max_width": null,
      "min_height": null,
      "min_width": null,
      "object_fit": null,
      "object_position": null,
      "order": null,
      "overflow": null,
      "overflow_x": null,
      "overflow_y": null,
      "padding": null,
      "right": null,
      "top": null,
      "visibility": null,
      "width": null
     }
    },
    "e768b7c4494e4a18bac2e9f1f9eb750f": {
     "model_module": "@jupyter-widgets/base",
     "model_module_version": "1.2.0",
     "model_name": "LayoutModel",
     "state": {
      "_model_module": "@jupyter-widgets/base",
      "_model_module_version": "1.2.0",
      "_model_name": "LayoutModel",
      "_view_count": null,
      "_view_module": "@jupyter-widgets/base",
      "_view_module_version": "1.2.0",
      "_view_name": "LayoutView",
      "align_content": null,
      "align_items": null,
      "align_self": null,
      "border": null,
      "bottom": null,
      "display": null,
      "flex": null,
      "flex_flow": null,
      "grid_area": null,
      "grid_auto_columns": null,
      "grid_auto_flow": null,
      "grid_auto_rows": null,
      "grid_column": null,
      "grid_gap": null,
      "grid_row": null,
      "grid_template_areas": null,
      "grid_template_columns": null,
      "grid_template_rows": null,
      "height": null,
      "justify_content": null,
      "justify_items": null,
      "left": null,
      "margin": null,
      "max_height": null,
      "max_width": null,
      "min_height": null,
      "min_width": null,
      "object_fit": null,
      "object_position": null,
      "order": null,
      "overflow": null,
      "overflow_x": null,
      "overflow_y": null,
      "padding": null,
      "right": null,
      "top": null,
      "visibility": null,
      "width": null
     }
    },
    "fd454d791d2d40ffa6f54ed1ecc6e23b": {
     "model_module": "@jupyter-widgets/output",
     "model_module_version": "1.0.0",
     "model_name": "OutputModel",
     "state": {
      "_dom_classes": [],
      "_model_module": "@jupyter-widgets/output",
      "_model_module_version": "1.0.0",
      "_model_name": "OutputModel",
      "_view_count": null,
      "_view_module": "@jupyter-widgets/output",
      "_view_module_version": "1.0.0",
      "_view_name": "OutputView",
      "layout": "IPY_MODEL_2101e074cbe5447aa6b06c20aaa2abe9",
      "msg_id": "",
      "outputs": [
       {
        "data": {
         "image/png": "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\n",
         "text/plain": "<Figure size 640x480 with 1 Axes>"
        },
        "metadata": {},
        "output_type": "display_data"
       }
      ]
     }
    }
   }
  }
 },
 "nbformat": 4,
 "nbformat_minor": 5
}
